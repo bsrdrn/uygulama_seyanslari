{
 "cells": [
  {
   "cell_type": "code",
   "execution_count": 5,
   "metadata": {},
   "outputs": [
    {
     "name": "stdout",
     "output_type": "stream",
     "text": [
      "*\n",
      "**\n",
      "***\n",
      "****\n",
      "*****\n"
     ]
    }
   ],
   "source": [
    "\"\"\"\n",
    "\n",
    "Aşağıdaki şekilleri oluşturunuz.\n",
    "\n",
    "*           *****           *       *****           **         **********        *        *\n",
    "**          ****           **        ****          ****         ********         **      **\n",
    "***         ***           ***         ***         ******         ******          ***    ***\n",
    "****        **           ****          **        ********         ****           ****  ****\n",
    "*****       *           *****           *       **********         **            **********\n",
    "\n",
    "\"\"\"\n",
    "\n",
    "satir_sayisi = int(input(\"Bir sayı girin: \"))\n",
    "for suanki_satir in range(1, satir_sayisi+1):\n",
    "   print(suanki_satir* \"*\")\n",
    "\n",
    "\n"
   ]
  },
  {
   "cell_type": "code",
   "execution_count": 7,
   "metadata": {},
   "outputs": [
    {
     "name": "stdout",
     "output_type": "stream",
     "text": [
      "*****\n",
      "****\n",
      "***\n",
      "**\n",
      "*\n"
     ]
    }
   ],
   "source": [
    "for suanki_satir in range(satir_sayisi,0,-1):\n",
    "   print(suanki_satir* \"*\")"
   ]
  },
  {
   "cell_type": "code",
   "execution_count": 13,
   "metadata": {},
   "outputs": [
    {
     "name": "stdout",
     "output_type": "stream",
     "text": [
      "    *\n",
      "   **\n",
      "  ***\n",
      " ****\n",
      "*****\n"
     ]
    }
   ],
   "source": [
    "for suanki_satir in range(1,satir_sayisi+1):\n",
    "   bosluk_sayisi = satir_sayisi - suanki_satir\n",
    "   print(bosluk_sayisi * \" \" +  suanki_satir* \"*\")"
   ]
  },
  {
   "cell_type": "code",
   "execution_count": 9,
   "metadata": {},
   "outputs": [
    {
     "name": "stdout",
     "output_type": "stream",
     "text": [
      "*****\n",
      " ****\n",
      "  ***\n",
      "   **\n",
      "    *\n"
     ]
    }
   ],
   "source": [
    "for suanki_satir in range(satir_sayisi,0,-1):\n",
    "   bosluk_sayisi = satir_sayisi - suanki_satir\n",
    "   print(bosluk_sayisi*\" \" +  suanki_satir* \"*\")"
   ]
  },
  {
   "cell_type": "code",
   "execution_count": 33,
   "metadata": {},
   "outputs": [
    {
     "name": "stdout",
     "output_type": "stream",
     "text": [
      "    **\n",
      "   ****\n",
      "  ******\n",
      " ********\n",
      "**********\n"
     ]
    }
   ],
   "source": [
    "for suanki_satir in range(1,satir_sayisi+1):\n",
    "   bosluk_sayisi = satir_sayisi - suanki_satir\n",
    "   print(bosluk_sayisi * \" \" +  (suanki_satir*2)* \"*\")\n"
   ]
  },
  {
   "cell_type": "code",
   "execution_count": 22,
   "metadata": {},
   "outputs": [
    {
     "name": "stdout",
     "output_type": "stream",
     "text": [
      "**********\n",
      " ********\n",
      "  ******\n",
      "   ****\n",
      "    **\n"
     ]
    }
   ],
   "source": [
    "for suanki_satir in range(satir_sayisi, 0 , -1):\n",
    "   bosluk_sayisi = satir_sayisi - suanki_satir\n",
    "   print(bosluk_sayisi * \" \" +  (suanki_satir*2)* \"*\")"
   ]
  },
  {
   "cell_type": "code",
   "execution_count": 34,
   "metadata": {},
   "outputs": [
    {
     "name": "stdout",
     "output_type": "stream",
     "text": [
      "    **\n",
      "   ****\n",
      "  ******\n",
      " ********\n",
      "**********\n",
      "**********\n",
      " ********\n",
      "  ******\n",
      "   ****\n",
      "    **\n"
     ]
    }
   ],
   "source": [
    "for suanki_satir in range(1,satir_sayisi+1):\n",
    "   bosluk_sayisi = satir_sayisi - suanki_satir\n",
    "   print(bosluk_sayisi * \" \" +  (suanki_satir*2)* \"*\")\n",
    "\n",
    "for suanki_satir in range(satir_sayisi, 0 , -1):\n",
    "   bosluk_sayisi = satir_sayisi - suanki_satir\n",
    "   print(bosluk_sayisi * \" \" +  (suanki_satir*2)* \"*\")"
   ]
  },
  {
   "cell_type": "code",
   "execution_count": 25,
   "metadata": {},
   "outputs": [
    {
     "name": "stdout",
     "output_type": "stream",
     "text": [
      "*        *\n",
      "**      **\n",
      "***    ***\n",
      "****  ****\n",
      "**********\n"
     ]
    }
   ],
   "source": [
    "satir_sayisi = int(input(\"Bir sayı girin: \"))\n",
    "for suanki_satir in range(1, satir_sayisi+1):\n",
    "   bosluk_sayisi = 2*satir_sayisi - 2*suanki_satir\n",
    "   print(suanki_satir* \"*\" + bosluk_sayisi * \" \" +  suanki_satir* \"*\")\n",
    "   "
   ]
  },
  {
   "cell_type": "code",
   "execution_count": 35,
   "metadata": {},
   "outputs": [
    {
     "name": "stdout",
     "output_type": "stream",
     "text": [
      "**********\n",
      "****  ****\n",
      "***    ***\n",
      "**      **\n",
      "*        *\n"
     ]
    }
   ],
   "source": [
    "\"\"\"\n",
    "\n",
    "Aşağıdaki şekli oluşturunuz.\n",
    "\n",
    "**********\n",
    "****  ****\n",
    "***    ***\n",
    "**      **\n",
    "*        *\n",
    "\n",
    "\"\"\"\n",
    "\n",
    "satir_sayisi = int(input(\"Bir sayı girin: \"))\n",
    "for suanki_satir in range(satir_sayisi, 0, -1):\n",
    "   bosluk_sayisi = 2*(satir_sayisi - suanki_satir)\n",
    "   print(suanki_satir* \"*\" + bosluk_sayisi * \" \" +  suanki_satir* \"*\")"
   ]
  },
  {
   "cell_type": "code",
   "execution_count": 29,
   "metadata": {},
   "outputs": [
    {
     "name": "stdout",
     "output_type": "stream",
     "text": [
      "**********\n",
      "****  ****\n",
      "***    ***\n",
      "**      **\n",
      "*        *\n",
      "*        *\n",
      "**      **\n",
      "***    ***\n",
      "****  ****\n",
      "**********\n"
     ]
    }
   ],
   "source": [
    "\"\"\"\n",
    "Aşağıdaki şekli oluşturunuz.\n",
    "\n",
    "**********\n",
    "****  ****\n",
    "***    ***\n",
    "**      **\n",
    "*        *\n",
    "*        *\n",
    "**      **\n",
    "***    ***\n",
    "****  ****\n",
    "**********\n",
    "\n",
    "\"\"\"\n",
    "\n",
    "satir_sayisi = int(input(\"Bir sayı girin: \"))\n",
    "for suanki_satir in range(satir_sayisi, 0, -1):\n",
    "   bosluk_sayisi = 2*satir_sayisi - 2*suanki_satir\n",
    "   print(suanki_satir* \"*\" + bosluk_sayisi * \" \" +  suanki_satir* \"*\")\n",
    "\n",
    "for suanki_satir in range(1, satir_sayisi+1):\n",
    "   bosluk_sayisi = 2*satir_sayisi - 2*suanki_satir\n",
    "   print(suanki_satir* \"*\" + bosluk_sayisi * \" \" +  suanki_satir* \"*\")\n"
   ]
  }
 ],
 "metadata": {
  "kernelspec": {
   "display_name": "Python 3.10.5 32-bit",
   "language": "python",
   "name": "python3"
  },
  "language_info": {
   "codemirror_mode": {
    "name": "ipython",
    "version": 3
   },
   "file_extension": ".py",
   "mimetype": "text/x-python",
   "name": "python",
   "nbconvert_exporter": "python",
   "pygments_lexer": "ipython3",
   "version": "3.10.5"
  },
  "orig_nbformat": 4,
  "vscode": {
   "interpreter": {
    "hash": "3a76228ad2be0688f8ad5f22cd5a5c34eb0a8c6f0341e9e6e30d2b6319109a87"
   }
  }
 },
 "nbformat": 4,
 "nbformat_minor": 2
}
