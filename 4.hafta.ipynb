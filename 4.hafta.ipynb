{
 "cells": [
  {
   "cell_type": "code",
   "execution_count": 3,
   "metadata": {},
   "outputs": [
    {
     "name": "stdout",
     "output_type": "stream",
     "text": [
      "*******\n",
      "*     *\n",
      "*     *\n",
      "*     *\n",
      "*     *\n",
      "*     *\n",
      "*******\n"
     ]
    }
   ],
   "source": [
    "\"\"\" \n",
    "Aşağıdaki şekilde 10 satır ve kolon vardır. Fakat kullanıcıdan girilen değere göre değişiklik gösterebilir.\n",
    "**********\n",
    "*        *\n",
    "*        *\n",
    "*        *\n",
    "*        *\n",
    "*        *\n",
    "*        *\n",
    "*        *\n",
    "*        *\n",
    "**********\n",
    "\"\"\" \n",
    "\n",
    "satir_sayisi = int(input(\"Bir sayı girin: \"))\n",
    "\n",
    "print(satir_sayisi* \"*\")\n",
    "\n",
    "for suanki_satir in range(satir_sayisi-1, 1, -1):\n",
    "   bosluk_sayisi = satir_sayisi - 2\n",
    "   print( \"*\" + bosluk_sayisi * \" \" +  \"*\")\n",
    "\n",
    "print(satir_sayisi* \"*\")\n"
   ]
  },
  {
   "cell_type": "code",
   "execution_count": 6,
   "metadata": {},
   "outputs": [
    {
     "name": "stdout",
     "output_type": "stream",
     "text": [
      "*****\n",
      "*   *\n",
      "*   *\n",
      "*   *\n",
      "*****\n"
     ]
    }
   ],
   "source": [
    "satir_sayisi = int(input(\"Bir sayı girin: \"))\n",
    "\n",
    "for suanki_satir in range(satir_sayisi):\n",
    "   if suanki_satir == 0 or suanki_satir==satir_sayisi-1:\n",
    "      print(satir_sayisi*\"*\")\n",
    "   else:\n",
    "      bosluk_sayisi = satir_sayisi - 2\n",
    "      print( \"*\" + bosluk_sayisi * \" \" +  \"*\")"
   ]
  },
  {
   "cell_type": "code",
   "execution_count": 13,
   "metadata": {},
   "outputs": [
    {
     "name": "stdout",
     "output_type": "stream",
     "text": [
      "**********\n",
      "**      **\n",
      "* *    * *\n",
      "*  *  *  *\n",
      "*   **   *\n",
      "*   **   *\n",
      "*  *  *  *\n",
      "* *    * *\n",
      "**      **\n",
      "**********\n"
     ]
    }
   ],
   "source": [
    "\"\"\" \n",
    "Aşağıdaki şekli çizdiriniz.\n",
    "\n",
    "Aşağıdaki şekilde 20 satır ve kolon vardır. Fakat kullanıcıdan girilen değere göre değişiklik gösterebilir.\n",
    "Şekil tek sayıda satır ve kolon ile beraber çizilmeye çalışıldığında düzgün sonuç vermeyebilir. Bundan dolayı kullanıcıdan alınan değeri 2 ile çarpabilirsiniz.\n",
    "********************\n",
    "**                **\n",
    "* *              * *\n",
    "*  *            *  *\n",
    "*   *          *   *\n",
    "*    *        *    *\n",
    "*     *      *     *\n",
    "*      *    *      *\n",
    "*       *  *       *\n",
    "*        **        *\n",
    "*        **        *\n",
    "*       *  *       *\n",
    "*      *    *      *\n",
    "*     *      *     *\n",
    "*    *        *    *\n",
    "*   *          *   *\n",
    "*  *            *  *\n",
    "* *              * *\n",
    "**                **\n",
    "********************\n",
    "\n",
    "\"\"\" \n",
    "\n",
    "satir_sayisi = int(input(\"Bir sayı girin: \"))\n",
    "\n",
    "for suanki_satir in range(satir_sayisi):\n",
    "   if suanki_satir ==0 or suanki_satir == satir_sayisi-1:\n",
    "    print(satir_sayisi* \"*\")\n",
    "   else:\n",
    "    if suanki_satir < satir_sayisi // 2:\n",
    "      ilk_bosluk_sayisi = suanki_satir-1\n",
    "      ucuncu_bosluk_sayisi = suanki_satir-1\n",
    "      ikinci_bosluk_sayisi = (satir_sayisi - ilk_bosluk_sayisi - ucuncu_bosluk_sayisi - 4)\n",
    "      print(\"*\" + (ilk_bosluk_sayisi) * \" \" + \"*\" + ikinci_bosluk_sayisi * \" \" + \"*\" + ucuncu_bosluk_sayisi * \" \" + \"*\")\n",
    "    else:\n",
    "      ilk_bosluk_sayisi = satir_sayisi - suanki_satir - 2\n",
    "      ucuncu_bosluk_sayisi = satir_sayisi - suanki_satir - 2\n",
    "      ikinci_bosluk_sayisi = (satir_sayisi - ilk_bosluk_sayisi - ucuncu_bosluk_sayisi - 4)\n",
    "      print(\"*\" + (ilk_bosluk_sayisi) * \" \" + \"*\" + ikinci_bosluk_sayisi * \" \" + \"*\" + ucuncu_bosluk_sayisi * \" \" + \"*\")"
   ]
  },
  {
   "cell_type": "code",
   "execution_count": null,
   "metadata": {},
   "outputs": [],
   "source": [
    "# satır- sutun\n",
    "\n",
    "for satir in range(satir_sayisi):\n",
    "    "
   ]
  },
  {
   "cell_type": "code",
   "execution_count": 18,
   "metadata": {},
   "outputs": [
    {
     "name": "stdout",
     "output_type": "stream",
     "text": [
      "120\n"
     ]
    }
   ],
   "source": [
    "# Kullanıcıdan alınan sayının faktöriyelini hesaplayan bir fonksiyon yazınız.\n",
    "\"\"\" \n",
    "\n",
    "sayi = int(input())\n",
    "\n",
    "sonuc = 1\n",
    "for i in range(1,sayi+1):\n",
    "    sonuc *= i\n",
    "print(x)\n",
    "\n",
    "\"\"\" \n",
    "\n",
    "def faktoriyelhesapla(sayi):\n",
    "   sonuc = 1\n",
    "   while sayi > 1 :\n",
    "      sonuc *= sayi \n",
    "      sayi -= 1\n",
    "   return sonuc\n",
    "\n",
    "print(faktoriyelhesapla(5))\n",
    "\n"
   ]
  },
  {
   "cell_type": "code",
   "execution_count": 20,
   "metadata": {},
   "outputs": [
    {
     "name": "stdout",
     "output_type": "stream",
     "text": [
      "120\n"
     ]
    }
   ],
   "source": [
    "# Kullanıcıdan alınan sayının faktoriyeli hesaplayan recursive bir fonksiyon yazınız.\n",
    "\n",
    "def calculateFac(number):\n",
    "    if number == 1 :\n",
    "      return 1\n",
    "    return number * calculateFac(number-1) \n",
    "\n",
    "print(calculateFac(5))"
   ]
  },
  {
   "cell_type": "code",
   "execution_count": null,
   "metadata": {},
   "outputs": [],
   "source": [
    "\"\"\" \n",
    "Kullanıcıdan alınan iki sayının ebob ve ekok değerlerini hesaplayan ve bu değerleri dönen bir fonksiyon yazınız.\n",
    "\n",
    "Fonksiyon parametre olarak kullanıcının girdiği 2 sayıyı almalı.\n",
    "Fonksiyon ebob ve ekok değerlerini dönmeli.\n",
    "\n",
    "\"\"\" \n",
    "\n",
    "num1 = int(input(\"Birinci Sayıyı Girin: \"))\n",
    "num2 = int(input(\"İkinci Sayıyı Girin: \"))\n",
    "\n",
    "if num1>num2:\n",
    "  for bolen in range(1, num1+1, 1):\n",
    "    if num1%bolen == 0:\n",
    "        if num2 % bolen == 0:\n",
    "          ebob = bolen\n",
    "else:\n",
    "    for bolen in range(1, num2+1, 1):\n",
    "      if num2%bolen == 0:\n",
    "       if num1 % bolen == 0:\n",
    "          ebob = bolen\n",
    "\n",
    "print(ebob)\n"
   ]
  },
  {
   "cell_type": "code",
   "execution_count": 30,
   "metadata": {},
   "outputs": [
    {
     "ename": "TypeError",
     "evalue": "can only concatenate tuple (not \"int\") to tuple",
     "output_type": "error",
     "traceback": [
      "\u001b[1;31m---------------------------------------------------------------------------\u001b[0m",
      "\u001b[1;31mTypeError\u001b[0m                                 Traceback (most recent call last)",
      "Cell \u001b[1;32mIn [30], line 15\u001b[0m\n\u001b[0;32m     11\u001b[0m    \u001b[38;5;28;01mreturn\u001b[39;00m ebob, ekok\n\u001b[0;32m     14\u001b[0m num1 \u001b[38;5;241m=\u001b[39m num2 \u001b[38;5;241m=\u001b[39m \u001b[38;5;28mint\u001b[39m(\u001b[38;5;28minput\u001b[39m()) , \u001b[38;5;28mint\u001b[39m(\u001b[38;5;28minput\u001b[39m())\n\u001b[1;32m---> 15\u001b[0m ebob, ekok \u001b[38;5;241m=\u001b[39m \u001b[43mebob_ekok\u001b[49m\u001b[43m(\u001b[49m\u001b[43mnum1\u001b[49m\u001b[43m,\u001b[49m\u001b[43m \u001b[49m\u001b[43mnum2\u001b[49m\u001b[43m)\u001b[49m\n\u001b[0;32m     16\u001b[0m \u001b[38;5;28mprint\u001b[39m(ebob)\n\u001b[0;32m     17\u001b[0m \u001b[38;5;28mprint\u001b[39m(ekok)\n",
      "Cell \u001b[1;32mIn [30], line 5\u001b[0m, in \u001b[0;36mebob_ekok\u001b[1;34m(num1, num2)\u001b[0m\n\u001b[0;32m      2\u001b[0m minValue \u001b[38;5;241m=\u001b[39m \u001b[38;5;28mmin\u001b[39m(num1,num2)\n\u001b[0;32m      3\u001b[0m ebob \u001b[38;5;241m=\u001b[39m \u001b[38;5;241m1\u001b[39m\n\u001b[1;32m----> 5\u001b[0m \u001b[38;5;28;01mfor\u001b[39;00m currentNumber \u001b[38;5;129;01min\u001b[39;00m \u001b[38;5;28mrange\u001b[39m(\u001b[38;5;241m2\u001b[39m, \u001b[43mminValue\u001b[49m\u001b[38;5;241;43m+\u001b[39;49m\u001b[38;5;241;43m1\u001b[39;49m):\n\u001b[0;32m      6\u001b[0m      \u001b[38;5;28;01mif\u001b[39;00m num1 \u001b[38;5;241m%\u001b[39mcurrentNumber \u001b[38;5;241m==\u001b[39m \u001b[38;5;241m0\u001b[39m \u001b[38;5;129;01mand\u001b[39;00m num2 \u001b[38;5;241m%\u001b[39m currentNumber \u001b[38;5;241m==\u001b[39m \u001b[38;5;241m0\u001b[39m:\n\u001b[0;32m      7\u001b[0m         ebob \u001b[38;5;241m=\u001b[39m currentNumber\n",
      "\u001b[1;31mTypeError\u001b[0m: can only concatenate tuple (not \"int\") to tuple"
     ]
    }
   ],
   "source": [
    "def ebob_ekok(num1,num2):\n",
    "   minValue = min(num1,num2)\n",
    "   ebob = 1\n",
    "\n",
    "   for currentNumber in range(2, minValue+1):\n",
    "        if num1 %currentNumber == 0 and num2 % currentNumber == 0:\n",
    "           ebob = currentNumber\n",
    "\n",
    "   ekok = (num1 * num2) / ebob\n",
    "\n",
    "   return ebob, ekok\n",
    "\n",
    "\n",
    "num1 = num2 = int(input()) , int(input())\n",
    "ebob, ekok = ebob_ekok(num1, num2)\n",
    "print(ebob)\n",
    "print(ekok)"
   ]
  },
  {
   "cell_type": "code",
   "execution_count": 28,
   "metadata": {},
   "outputs": [
    {
     "name": "stdout",
     "output_type": "stream",
     "text": [
      "True\n"
     ]
    }
   ],
   "source": [
    "\"\"\" \n",
    "Kendisine verilen tam sayının mükemmel sayı olup olmadığını dönen bir fonksiyon yazınız.\n",
    "\n",
    "Mükemmel sayı, kendisi hariç pozitif tam bölenlerinin toplamı kendisine eşit olan sayıdır. \n",
    "Örneğin 28 sayısının tam bölenlerine bakalım: 1, 2, 4, 7, 14 bu sayıların toplamı 28'e eşit olduğu için 28 mükemmel sayıdır.\n",
    "\n",
    "\"\"\" \n",
    "\n",
    "\n",
    "def isPerfectNumber(number):\n",
    "    sum = 0\n",
    "\n",
    "    for currentNumber in range(1,number):\n",
    "        if number % currentNumber == 0:\n",
    "            sum += currentNumber\n",
    "\n",
    "    return sum == number\n",
    "\n",
    "print(isPerfectNumber(28))\n",
    "\n"
   ]
  },
  {
   "cell_type": "code",
   "execution_count": 29,
   "metadata": {},
   "outputs": [
    {
     "name": "stdout",
     "output_type": "stream",
     "text": [
      "False\n"
     ]
    }
   ],
   "source": [
    "# Verilen aralıkta bulunan mükemmel sayıları ekrana yazdıran bir fonksiyon yazınız.\n",
    "\n",
    "def isPerfectNumber(number):\n",
    "    sum = 0\n",
    "\n",
    "    for currentNumber in range(1,number):\n",
    "        for y in range(1,currentNumber + 1):\n",
    "          if number % currentNumber == 0:\n",
    "            sum += currentNumber\n",
    "\n",
    "    return sum == number\n",
    "\n",
    "print(isPerfectNumber(28))"
   ]
  }
 ],
 "metadata": {
  "kernelspec": {
   "display_name": "Python 3.10.5 32-bit",
   "language": "python",
   "name": "python3"
  },
  "language_info": {
   "codemirror_mode": {
    "name": "ipython",
    "version": 3
   },
   "file_extension": ".py",
   "mimetype": "text/x-python",
   "name": "python",
   "nbconvert_exporter": "python",
   "pygments_lexer": "ipython3",
   "version": "3.10.5"
  },
  "orig_nbformat": 4,
  "vscode": {
   "interpreter": {
    "hash": "3a76228ad2be0688f8ad5f22cd5a5c34eb0a8c6f0341e9e6e30d2b6319109a87"
   }
  }
 },
 "nbformat": 4,
 "nbformat_minor": 2
}
