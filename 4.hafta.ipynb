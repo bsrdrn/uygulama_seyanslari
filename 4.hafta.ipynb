{
 "cells": [
  {
   "cell_type": "code",
   "execution_count": 8,
   "metadata": {},
   "outputs": [
    {
     "name": "stdout",
     "output_type": "stream",
     "text": [
      "**********\n",
      "*        *\n",
      "*        *\n",
      "*        *\n",
      "*        *\n",
      "*        *\n",
      "*        *\n",
      "*        *\n",
      "*        *\n",
      "**********\n"
     ]
    }
   ],
   "source": [
    "\"\"\" \n",
    "Aşağıdaki şekilde 10 satır ve kolon vardır. Fakat kullanıcıdan girilen değere göre değişiklik gösterebilir.\n",
    "**********\n",
    "*        *\n",
    "*        *\n",
    "*        *\n",
    "*        *\n",
    "*        *\n",
    "*        *\n",
    "*        *\n",
    "*        *\n",
    "**********\n",
    "\"\"\" \n",
    "\n",
    "satir_sayisi = int(input(\"Bir sayı girin: \"))\n",
    "\n",
    "print(satir_sayisi* \"*\")\n",
    "\n",
    "for suanki_satir in range(satir_sayisi-1, 1, -1):\n",
    "   bosluk_sayisi = satir_sayisi - 2\n",
    "   print(1* \"*\" + bosluk_sayisi * \" \" +  1* \"*\")\n",
    "\n",
    "print(satir_sayisi* \"*\")\n"
   ]
  },
  {
   "cell_type": "code",
   "execution_count": 58,
   "metadata": {},
   "outputs": [
    {
     "name": "stdout",
     "output_type": "stream",
     "text": [
      "**********\n",
      "*         *\n",
      "*        *\n",
      "*       *\n",
      "*      *\n",
      "*     *\n",
      "*    *\n",
      "*   *\n",
      "*  *\n",
      "* *\n",
      "**********\n"
     ]
    }
   ],
   "source": [
    "\"\"\" \n",
    "Aşağıdaki şekli çizdiriniz.\n",
    "\n",
    "Aşağıdaki şekilde 20 satır ve kolon vardır. Fakat kullanıcıdan girilen değere göre değişiklik gösterebilir.\n",
    "Şekil tek sayıda satır ve kolon ile beraber çizilmeye çalışıldığında düzgün sonuç vermeyebilir. Bundan dolayı kullanıcıdan alınan değeri 2 ile çarpabilirsiniz.\n",
    "********************\n",
    "**                **\n",
    "* *              * *\n",
    "*  *            *  *\n",
    "*   *          *   *\n",
    "*    *        *    *\n",
    "*     *      *     *\n",
    "*      *    *      *\n",
    "*       *  *       *\n",
    "*        **        *\n",
    "*        **        *\n",
    "*       *  *       *\n",
    "*      *    *      *\n",
    "*     *      *     *\n",
    "*    *        *    *\n",
    "*   *          *   *\n",
    "*  *            *  *\n",
    "* *              * *\n",
    "**                **\n",
    "********************\n",
    "\n",
    "\"\"\" \n",
    "\n",
    "satir_sayisi = int(input(\"Bir sayı girin: \"))\n",
    "\n",
    "print(satir_sayisi* \"*\")\n",
    "\n",
    "for suanki_satir in range(satir_sayisi-1, 0, -1):\n",
    "    bosluk_sayisi = satir_sayisi - 4 - 2* suanki_satir\n",
    "    print(\"*\" + \" \" * suanki_satir + \"*\")\n",
    "\n",
    "print(satir_sayisi* \"*\")\n"
   ]
  },
  {
   "cell_type": "code",
   "execution_count": 46,
   "metadata": {},
   "outputs": [
    {
     "name": "stdout",
     "output_type": "stream",
     "text": [
      "**********\n",
      "         * *\n",
      "        *  *\n",
      "       *   *\n",
      "      *    *\n",
      "     *     *\n",
      "    *      *\n",
      "   *       *\n",
      "  *        *\n",
      " *         *\n",
      "**********\n"
     ]
    }
   ],
   "source": [
    "satir_sayisi = int(input(\"Bir sayı girin: \"))\n",
    "\n",
    "print(satir_sayisi* \"*\")\n",
    "bosluk = 0\n",
    "\n",
    "for suanki_satir in range(satir_sayisi-1, 0, -1):\n",
    "    \n",
    "    yildiz = (\" \" * suanki_satir + \"*\")\n",
    "    bosluk +=1\n",
    "    print(yildiz + bosluk*\" \" + \"*\")\n",
    "print(satir_sayisi* \"*\")"
   ]
  },
  {
   "cell_type": "code",
   "execution_count": 54,
   "metadata": {},
   "outputs": [
    {
     "name": "stdout",
     "output_type": "stream",
     "text": [
      "*  *\n",
      "*    *\n",
      "*      *\n",
      "*        *\n",
      "*          *\n",
      "*            *\n",
      "*              *\n",
      "*                *\n",
      "*                  *\n"
     ]
    }
   ],
   "source": [
    "satir_sayisi = int(input(\"Bir sayı girin: \"))\n",
    "\n",
    "\n",
    "bosluk = 0\n",
    "\n",
    "for suanki_satir in range(satir_sayisi-1, 0, -1):\n",
    "    \n",
    "    yildiz = (\" \" * (satir_sayisi - suanki_satir) + \"*\")\n",
    "    bosluk +=1\n",
    "    print(\"*\" + bosluk*\" \" + yildiz)"
   ]
  },
  {
   "cell_type": "code",
   "execution_count": 61,
   "metadata": {},
   "outputs": [
    {
     "name": "stdout",
     "output_type": "stream",
     "text": [
      "120\n"
     ]
    }
   ],
   "source": [
    "# Kullanıcıdan alınan sayının faktöriyelini hesaplayan bir fonksiyon yazınız.\n",
    "\n",
    "number = int(input(\"Bir değer giriniz: \"))\n",
    "baslangic = 1\n",
    "for i in range (1,number+1):\n",
    "    baslangic *= i\n",
    "print(baslangic)"
   ]
  },
  {
   "cell_type": "code",
   "execution_count": null,
   "metadata": {},
   "outputs": [],
   "source": [
    "# Kullanıcıdan alınan sayının faktoriyeli hesaplayan recursive bir fonksiyon yazınız.\n"
   ]
  }
 ],
 "metadata": {
  "kernelspec": {
   "display_name": "Python 3.10.5 32-bit",
   "language": "python",
   "name": "python3"
  },
  "language_info": {
   "codemirror_mode": {
    "name": "ipython",
    "version": 3
   },
   "file_extension": ".py",
   "mimetype": "text/x-python",
   "name": "python",
   "nbconvert_exporter": "python",
   "pygments_lexer": "ipython3",
   "version": "3.10.5"
  },
  "orig_nbformat": 4,
  "vscode": {
   "interpreter": {
    "hash": "3a76228ad2be0688f8ad5f22cd5a5c34eb0a8c6f0341e9e6e30d2b6319109a87"
   }
  }
 },
 "nbformat": 4,
 "nbformat_minor": 2
}
