{
 "cells": [
  {
   "cell_type": "code",
   "execution_count": 2,
   "metadata": {},
   "outputs": [
    {
     "name": "stdout",
     "output_type": "stream",
     "text": [
      "123 123 123\n"
     ]
    }
   ],
   "source": [
    "#3 tane farklı değişken tanımlayıp bu değişkenlerin hepsine aynı değeri atınız ve bunu olabilecek en kısa yoldan yapınız :)\n",
    "x = y = z = 123\n",
    "\n",
    "print( x, y, z)"
   ]
  },
  {
   "cell_type": "code",
   "execution_count": 7,
   "metadata": {},
   "outputs": [
    {
     "name": "stdout",
     "output_type": "stream",
     "text": [
      "number 8\n",
      "number 4\n"
     ]
    }
   ],
   "source": [
    "#Bir global değişken tanımlayıp bu değişkene bir fonksiyon erişip değerini değiştiriniz.(Fonksiyonun değer değiştirme dışında bir şey yapmasına gerek yoktur.)\n",
    "\n",
    "number = 4\n",
    "\n",
    "def change():\n",
    "  number = 8\n",
    "  print(\"number\", number)     # bu kısımda number değerini 8 ile değiştir ve çıktı olarak yaz.\n",
    "\n",
    "change()\n",
    "print(\"number\", number)       # bu kısımda number değerini global olarak tanımlanan number değerinden al. \n"
   ]
  },
  {
   "cell_type": "code",
   "execution_count": null,
   "metadata": {},
   "outputs": [],
   "source": [
    "number = 4\n",
    "\n",
    "def change(newNumber):\n",
    "  global number\n",
    "  number = newNumber\n",
    "  print(\"number\", number)\n",
    "\n",
    "userInput = input('Enter a number!!!')\n",
    "change(userInput)\n",
    "print(\"number\", number)\n"
   ]
  },
  {
   "cell_type": "code",
   "execution_count": 12,
   "metadata": {},
   "outputs": [
    {
     "name": "stdout",
     "output_type": "stream",
     "text": [
      "90\n"
     ]
    }
   ],
   "source": [
    "#Aşağıdaki kod bloğu çalıştığında çıkan sonuç ne olur?\n",
    "#Hata verir mi? Verirse neyden kaynaklı bir hata verir ve nasıl düzeltebiliriz?\n",
    "globalVariable = 50\n",
    "\n",
    "def add50toGlobal():\n",
    "    globalVariable += 50    #bu değer print olarak istenmediği için buraya globalı tanımlamadık ama istenirse yazmak zorundayız.\n",
    "\n",
    "def add30toGlobal():\n",
    "    global globalVariable   #bunu yazmadığımız zaman kod globalvariable değerini tanımlamadığımızdan dolayı onu bulamıyor ve hata veriyor  \n",
    "    globalVariable += 30\n",
    "\n",
    "def add10toGlobal():\n",
    "    global globalVariable\n",
    "    globalVariable += 10\n",
    "\n",
    "add10toGlobal()\n",
    "add30toGlobal()              \n",
    "\n",
    "print(globalVariable)"
   ]
  },
  {
   "cell_type": "code",
   "execution_count": 26,
   "metadata": {},
   "outputs": [
    {
     "name": "stdout",
     "output_type": "stream",
     "text": [
      "Hello Sisters\n"
     ]
    }
   ],
   "source": [
    "#Aşağıdaki kod bloğunun istenilen çıktıyı vermesi için gerekli değişikleri yapınız.\n",
    "\n",
    "#İstenilen Çıktı 'Hello Sisters'\n",
    "helloStr = \"Hello\"\n",
    "sistersStr =\"Sisters\"\n",
    "conditionVal = 8.5\n",
    "\n",
    "if helloStr == 'Hello' and sistersStr == 'Sisters' and type(conditionVal) is float and conditionVal > 5:\n",
    " print(helloStr,sistersStr)"
   ]
  },
  {
   "cell_type": "code",
   "execution_count": 41,
   "metadata": {},
   "outputs": [
    {
     "name": "stdout",
     "output_type": "stream",
     "text": [
      "Ortalama Not:  76.0\n"
     ]
    }
   ],
   "source": [
    "#Klavyeden girilen vize ve final notuna göre vizenin %40 ve finalin %60’ını alan ve sonucu ekranda gösteren kodu yazınız.\n",
    "vize= int(input(\"Vize notu: \"))\n",
    "final = int(input(\"Final notu: \"))\n",
    "\n",
    "total = vize*(0.4) + final*(0.6)\n",
    "print(\"Ortalama Not: \" ,total)"
   ]
  },
  {
   "cell_type": "code",
   "execution_count": 5,
   "metadata": {},
   "outputs": [
    {
     "name": "stdout",
     "output_type": "stream",
     "text": [
      "10 18\n"
     ]
    }
   ],
   "source": [
    "#Kullanıcıdan 2 sayı alın ve bunları karşılaştırıp,\n",
    "\n",
    "#Sayılar eşit ise 'Sayılar Eşittir' yazdırınız.\n",
    "#Eşit değilse;\n",
    "#Büyükten 5 çıkartıp ekrana yazdırınız.\n",
    "#Küçüğü 3 ile çarpıp ekrana yazdırınız.\n",
    "\n",
    "sayı1= int(input(\"1.sayı: \"))\n",
    "sayı2= int(input(\"2.sayı: \"))\n",
    "\n",
    "if sayı1 == sayı2:\n",
    "    print(\"Sayılar Eşittir\")\n",
    "elif sayı1 != sayı2:\n",
    "    if sayı1 > sayı2:\n",
    "        print(sayı1-5, sayı2*3)\n",
    "    elif sayı2 > sayı1:\n",
    "        print(sayı2-5, sayı1*3)\n",
    "    "
   ]
  },
  {
   "cell_type": "code",
   "execution_count": 6,
   "metadata": {},
   "outputs": [
    {
     "name": "stdout",
     "output_type": "stream",
     "text": [
      "18 45\n"
     ]
    }
   ],
   "source": [
    "sayı1= int(input(\"1.sayı: \"))\n",
    "sayı2= int(input(\"2.sayı: \"))\n",
    "\n",
    "if sayı1 == sayı2:\n",
    "    print(\"Sayılar Eşittir\")\n",
    "elif sayı1 > sayı2:\n",
    "    print(sayı1-5, sayı2*3)\n",
    "else:\n",
    "    print(sayı2-5, sayı1*3)"
   ]
  },
  {
   "cell_type": "code",
   "execution_count": 7,
   "metadata": {},
   "outputs": [
    {
     "name": "stdout",
     "output_type": "stream",
     "text": [
      "23\n",
      "45\n"
     ]
    }
   ],
   "source": [
    "num1 = int(input(\"Birinci sayiyi giriniz: \"))\n",
    "num2 = int(input(\"İkinci sayiyi giriniz: \"))\n",
    "\n",
    "if num1 == num2:\n",
    "   print(\"Sayılar Eşittir\")\n",
    "\n",
    "elif num1 != num2:\n",
    "   numbers = [num1, num2]\n",
    "   max_num = max(numbers)\n",
    "   a = max_num - 5\n",
    "   print(a)\n",
    "   min_num = min(numbers)\n",
    "   b = min_num * 3\n",
    "   print(b)\n"
   ]
  },
  {
   "cell_type": "code",
   "execution_count": 23,
   "metadata": {},
   "outputs": [
    {
     "name": "stdout",
     "output_type": "stream",
     "text": [
      "60\n"
     ]
    }
   ],
   "source": [
    "#Klavyeden girilen iki sayı arasındaki sayıları toplayan kodu yazınız.\n",
    "\n",
    "num1 = int(input(\"Birinci sayiyi giriniz: \"))\n",
    "num2 = int(input(\"İkinci sayiyi giriniz: \"))\n",
    "\n",
    "total = 0\n",
    "for currentNumber in range(num1, num2+1):\n",
    "    total += currentNumber\n",
    "\n",
    "print(total)"
   ]
  },
  {
   "cell_type": "code",
   "execution_count": 27,
   "metadata": {},
   "outputs": [
    {
     "name": "stdout",
     "output_type": "stream",
     "text": [
      "15\n"
     ]
    }
   ],
   "source": [
    "#Klavyeden girilen iki sayı arasındaki sayıları toplayan kodu yazınız.\n",
    "\n",
    "x=int(input(\"birinci sayı:\"))\n",
    "y=int(input(\"ikinci sayı:\"))\n",
    "total = sum(range(x, y+1))\n",
    "print(total)\n"
   ]
  },
  {
   "cell_type": "code",
   "execution_count": 58,
   "metadata": {},
   "outputs": [
    {
     "name": "stdout",
     "output_type": "stream",
     "text": [
      "Hatalı Değer\n"
     ]
    }
   ],
   "source": [
    "#Kullanıcıdan not ortalamasını girmesini isteyiniz. Not ortalamasına göre sınıfı geçme durumunu gösteren kodu yazınız.\n",
    "\n",
    "#Sınıf geçme şartları:\n",
    "\n",
    "#-(0-50 arasında ise \"Kaldınız\",\n",
    "\n",
    "#-50-100 aralığında ise \"Geçtiniz\",\n",
    "\n",
    "#-Bu aralığa uymuyorsa \"Hatalı Değer\" mesajlarını ekrana yazdırınız.)\n",
    "\n",
    "not_ort = float(input(\"Ortalama not değerini girin:\"))\n",
    "if not_ort < 50 : \n",
    "    print(\"Kaldınız\")\n",
    "elif 50 <= not_ort < 100:\n",
    "    print(\"Geçtiniz\")\n",
    "else:\n",
    "    print(\"Hatalı Değer\")\n",
    "    \n"
   ]
  },
  {
   "cell_type": "code",
   "execution_count": 19,
   "metadata": {},
   "outputs": [
    {
     "name": "stdout",
     "output_type": "stream",
     "text": [
      "1\n",
      "3\n",
      "5\n",
      "15\n"
     ]
    }
   ],
   "source": [
    "#Kullanıcıdan alınan sayının tam bölenlerini ekrana yazdırınız.\n",
    "\n",
    "number = int(input(\"Bir sayiyi giriniz: \"))\n",
    "\n",
    "for bolen in range(1, number+1, 1):\n",
    "   if number%bolen == 0:\n",
    "    print(bolen)\n",
    "   elif bolen == number:\n",
    "    break\n",
    "\n"
   ]
  },
  {
   "cell_type": "code",
   "execution_count": 60,
   "metadata": {},
   "outputs": [
    {
     "name": "stdout",
     "output_type": "stream",
     "text": [
      "1\n",
      "2\n",
      "4\n",
      "8\n",
      "16\n",
      "32\n"
     ]
    }
   ],
   "source": [
    "#Kullanıcıdan alınan sayının tam bölenlerini ekrana yazdırınız.\n",
    "\n",
    "number = int(input(\"Bir sayi giriniz: \"))\n",
    "\n",
    "for bolen in range(1, number+1, 1):\n",
    "   if number%bolen == 0:\n",
    "    print(bolen)\n",
    "   \n",
    "   "
   ]
  },
  {
   "cell_type": "code",
   "execution_count": 67,
   "metadata": {},
   "outputs": [
    {
     "name": "stdout",
     "output_type": "stream",
     "text": [
      " 5 sayısının faktöriyeli =  120\n"
     ]
    }
   ],
   "source": [
    "#Kullanıcıdan bir sayı alınız ve bu sayının faktöriyelini hesaplayınız\n",
    "\n",
    "num = int(input(\"Bir Sayı Girin: \"))\n",
    "x = 1 \n",
    "for i in range (1, num+1, 1):\n",
    "   x *= i\n",
    "print(f\" {num} sayısının faktöriyeli =  {x}\")\n",
    "\n",
    "\n",
    "\n"
   ]
  },
  {
   "cell_type": "code",
   "execution_count": 77,
   "metadata": {},
   "outputs": [
    {
     "name": "stdout",
     "output_type": "stream",
     "text": [
      " 5 sayısının faktöriyeli =  120\n"
     ]
    }
   ],
   "source": [
    "num = int(input(\"Bir Sayı Girin: \"))\n",
    "x = 1 \n",
    "givenNumber = num\n",
    "\n",
    "while num > 1:\n",
    "    x *= num\n",
    "    num -= 1\n",
    "\n",
    "print(f\" {givenNumber} sayısının faktöriyeli =  {x}\")\n",
    "\n",
    "# sonuç x de tutulduğu için x yazdırılır."
   ]
  },
  {
   "cell_type": "code",
   "execution_count": 83,
   "metadata": {},
   "outputs": [
    {
     "name": "stdout",
     "output_type": "stream",
     "text": [
      "1\n",
      "4\n",
      "9\n",
      "16\n"
     ]
    }
   ],
   "source": [
    "#Verilen tam sayı 'n' için n'den küçük olan ve negatif olmayan sayıların karelerini ekrana yazdırınız.\n",
    "\n",
    "\"\"\"\n",
    "Örneğin 6 sayısı için ekranda şu şekilde bir çıktı olmalıdır ;\n",
    "\n",
    "0\n",
    "1\n",
    "4\n",
    "9\n",
    "16\n",
    "25\n",
    "\"\"\"\n",
    "\n",
    "n = int(input(\"Bir Sayı Girin: \"))\n",
    "\n",
    "for sayilar in range(1, n):\n",
    "    print( sayilar **2)"
   ]
  },
  {
   "cell_type": "code",
   "execution_count": 32,
   "metadata": {},
   "outputs": [
    {
     "name": "stdout",
     "output_type": "stream",
     "text": [
      "sevgili arkadaşlar hoş geldiniz\n",
      "11\n"
     ]
    }
   ],
   "source": [
    "#Kullanıcıdan bir metin girmesini isteyin ve girilen bu metinde bulunan sesli harflerin sayısını ekranda gösteren kodu yazın.\n",
    "\n",
    "from cmath import e\n",
    "from unittest import result\n",
    "\n",
    "\n",
    "metin = str(input(\"Bir metin girin: \"))\n",
    "\n",
    "result = metin.count(\"a\")\n",
    "result1 = metin.count(\"e\")\n",
    "result2 = metin.count(\"ı\")\n",
    "result3 = metin.count(\"i\")\n",
    "result4 = metin.count(\"o\")\n",
    "result5 = metin.count(\"ö\")\n",
    "result6 = metin.count(\"u\")\n",
    "result7 = metin.count(\"ü\")\n",
    "\n",
    "total = result + result1+ result2 + result3 + result4+ result5+ result6 + result7\n",
    "\n",
    "print(metin)\n",
    "print(total)\n"
   ]
  },
  {
   "cell_type": "code",
   "execution_count": 100,
   "metadata": {},
   "outputs": [
    {
     "name": "stdout",
     "output_type": "stream",
     "text": [
      "0\n"
     ]
    }
   ],
   "source": [
    "letters = \"AEIİOÖUÜaeıioöuü\"\n",
    "\n",
    "counter = 0 \n",
    "\n",
    "metin = input(\"Bir metin girin: \")\n",
    "\n",
    "for currentChar in metin:\n",
    "    if metin in letters:\n",
    "       counter += 1\n",
    "\n",
    "print(counter)"
   ]
  },
  {
   "cell_type": "code",
   "execution_count": 26,
   "metadata": {},
   "outputs": [
    {
     "name": "stdout",
     "output_type": "stream",
     "text": [
      "0\n"
     ]
    }
   ],
   "source": [
    "letters = \"AEIİOÖUÜaeıioöuü\"\n",
    "\n",
    "counter = 0 \n",
    "\n",
    "metin = input(\"Bir metin girin: \")\n",
    "\n",
    "for currentChar in metin:\n",
    "    if metin in letters:\n",
    "       counter += 1\n",
    "\n",
    "print(counter)"
   ]
  },
  {
   "cell_type": "code",
   "execution_count": 102,
   "metadata": {},
   "outputs": [
    {
     "name": "stdout",
     "output_type": "stream",
     "text": [
      "1 \n",
      "1 2 \n",
      "1 2 3 \n",
      "1 2 3 4 \n",
      "1 2 3 4 5 \n"
     ]
    }
   ],
   "source": [
    "#Kullanıcıdan bir sayı alınız ve sonrasında alınan sayıya kadar olan sayılardan oluşan alttaki piramiti oluşturunuz.\n",
    "\"\"\"\n",
    "Örnek: Kullanıcı '5' değerini girdiyse;\n",
    "\n",
    "1\n",
    "1 2\n",
    "1 2 3\n",
    "1 2 3 4\n",
    "1 2 3 4 5\n",
    "\"\"\"\n",
    "\n",
    "sayi = int(input(\"Bir sayı girin: \"))\n",
    "for i in range (1, sayi+1):             # satır belirtir. 1 den başlar ve verilen sayıda satır içerir.\n",
    "    for y in range (1, i+ 1):           # sütün değerini belirler yani satırlarda i+1 e kadar değerleri yazdırır.\n",
    "        print(y, end=\" \")\n",
    "    print()\n",
    "\n",
    "\n",
    " # 1. satırda 1 değer var 1, 2. satırda 2 değer var 1,2 . 3. satırda 3 değer var 1,2,3 şeklinde çalışıyor.\n",
    " "
   ]
  },
  {
   "cell_type": "code",
   "execution_count": 106,
   "metadata": {},
   "outputs": [
    {
     "name": "stdout",
     "output_type": "stream",
     "text": [
      "    * \n",
      "   * * \n",
      "  * * * \n",
      " * * * * \n",
      "* * * * * \n",
      "* * * * * * \n",
      " * * * * * \n",
      "  * * * * \n",
      "   * * * \n",
      "    * * \n",
      "     * \n"
     ]
    }
   ],
   "source": [
    "\"\"\"\n",
    "Aşağıdaki şekli oluşturunuz.\n",
    "\n",
    "satır sayısı hepsinde 5\n",
    "\n",
    "     *                  i = 1    satır sayısı hepsinde 5\n",
    "    * *                 İ = 2\n",
    "   * * *                İ = 3\n",
    "  * * * * \n",
    " * * * * * \n",
    "* * * * * * \n",
    " * * * * * \n",
    "  * * * * \n",
    "   * * * \n",
    "    * * \n",
    "     *\n",
    "\"\"\"\n",
    "x = int(input(\"Bir sayı girin: \"))\n",
    "\n",
    "\n",
    "for i in range (1, x+1):\n",
    "    print ((x - i + 1) * \" \" + i * \"* \")\n",
    " \n",
    "\n",
    "print((x+1) * \"* \")     # ortadaki yıldız satırı \n",
    "\n",
    "\n",
    "for i in range (1, x +1 ):\n",
    "     print((i)*\" \" + (x - i + 1)* \"* \")\n",
    "\n",
    "\n",
    "\n",
    "\n",
    "x = satır_sayısı\n",
    "i = suanki_satir\n"
   ]
  },
  {
   "cell_type": "code",
   "execution_count": 108,
   "metadata": {},
   "outputs": [
    {
     "name": "stdout",
     "output_type": "stream",
     "text": [
      "     * \n",
      "    * * \n",
      "   * * * \n",
      "  * * * * \n",
      " * * * * * \n",
      "* * * * * * \n",
      " * * * * * \n",
      "  * * * * \n",
      "   * * * \n",
      "    * * \n",
      "     * \n"
     ]
    }
   ],
   "source": [
    "x = int(input(\"Bir sayı girin: \"))\n",
    "\n",
    "\n",
    "for i in range (1, x+1):\n",
    "    bosluk_sayisi = x - i + 1\n",
    "    yıldız_sayisi = i\n",
    "    print (bosluk_sayisi * \" \" + yıldız_sayisi * \"* \")\n",
    " \n",
    "\n",
    "print((x+1) * \"* \")     # ortadaki yıldız satırı \n",
    "\n",
    "\n",
    "for i in range (1, x +1 ):\n",
    "    bosluk_sayisi = i\n",
    "    yıldız_sayisi = x - i + 1\n",
    "    print((bosluk_sayisi)*\" \" + yıldız_sayisi* \"* \")"
   ]
  },
  {
   "cell_type": "code",
   "execution_count": 111,
   "metadata": {},
   "outputs": [
    {
     "name": "stdout",
     "output_type": "stream",
     "text": [
      "      \n",
      "     * \n",
      "    * * \n",
      "   * * * \n",
      "  * * * * \n",
      " * * * * * \n",
      " * * * * * \n",
      "  * * * * \n",
      "   * * * \n",
      "    * * \n",
      "     * \n"
     ]
    }
   ],
   "source": [
    "satir_sayisi = int(input())\n",
    "\n",
    "\n",
    "'''\n",
    "     *       5 - 1 = 4           \n",
    "    * *      5 - 2 = 3             \n",
    "   * * *             \n",
    "  * * * *            \n",
    " * * * * *           \n",
    "* * * * * * \n",
    " * * * * *     \n",
    "  * * * * \n",
    "   * * * \n",
    "    * *        5 | 9\n",
    "     *         5 | 10        \n",
    "'''\n",
    "\n",
    "\n",
    "# for i in range(1, x + 1):\n",
    "#     print((x - i) * ' ' + i * '* ')\n",
    "# for i in range(x, 0, -1):\n",
    "#     print(i * '* ')\n",
    "for suanki_satir in range(0, satir_sayisi * 2 + 1):\n",
    "    if suanki_satir <= satir_sayisi:\n",
    "        bosluk_sayisi = satir_sayisi - suanki_satir + 1\n",
    "        yildiz_sayisi = suanki_satir\n",
    "        print(bosluk_sayisi * ' ' + yildiz_sayisi * '* ')\n",
    "    elif suanki_satir == satir_sayisi:\n",
    "        yildiz_sayisi = suanki_satir + 1\n",
    "        print(yildiz_sayisi * '* ')\n",
    "\n",
    "    else:\n",
    "        # suanki_satir = 6 7 8 9 \n",
    "        # satir_sayisi = 5 5 5 5\n",
    "        bosluk_sayisi = suanki_satir - satir_sayisi\n",
    "        yildiz_sayisi = satir_sayisi * 2 + 1 - suanki_satir \n",
    "        print(bosluk_sayisi * ' ' + yildiz_sayisi * '* ')\n",
    "# for suanki_satir in range(1, satir_sayisi + 1):\n",
    "#     bosluk_sayisi = satir_sayisi - suanki_satir + 1\n",
    "#     yildiz_sayisi = suanki_satir\n",
    "#     print(bosluk_sayisi * ' ' + yildiz_sayisi * '* ')\n",
    "\n",
    "# print((satir_sayisi + 1) * '* ')\n",
    "\n",
    "# for suanki_satir in range(1, satir_sayisi + 1):\n",
    "#     bosluk_sayisi = suanki_satir\n",
    "#     yildiz_sayisi = satir_sayisi - suanki_satir + 1\n",
    "#     print(bosluk_sayisi * ' ' + yildiz_sayisi * '* ')\n"
   ]
  },
  {
   "cell_type": "code",
   "execution_count": 110,
   "metadata": {},
   "outputs": [
    {
     "name": "stdout",
     "output_type": "stream",
     "text": [
      "     * \n",
      "    * * \n",
      "   * * * \n",
      "  * * * * \n",
      " * * * * * \n",
      "* * * * * * \n",
      " * * * * * \n",
      "  * * * * \n",
      "   * * * \n",
      "    * * \n",
      "     * \n"
     ]
    }
   ],
   "source": [
    "satir_sayisi = int(input())\n",
    "for suanki_satir in range(0, satir_sayisi * 2 + 1):\n",
    "    if suanki_satir <= satir_sayisi:\n",
    "        if suanki_satir < satir_sayisi:\n",
    "            bosluk_sayisi = satir_sayisi - suanki_satir\n",
    "            yildiz_sayisi = suanki_satir + 1\n",
    "            print(bosluk_sayisi * ' ' + yildiz_sayisi * '* ')\n",
    "        else:\n",
    "            yildiz_sayisi = suanki_satir + 1\n",
    "            print(yildiz_sayisi * '* ')\n",
    "    else:\n",
    "        bosluk_sayisi = suanki_satir - satir_sayisi\n",
    "        yildiz_sayisi = satir_sayisi * 2 + 1 - suanki_satir \n",
    "        print(bosluk_sayisi * ' ' + yildiz_sayisi * '* ')\n"
   ]
  },
  {
   "cell_type": "code",
   "execution_count": 38,
   "metadata": {},
   "outputs": [
    {
     "name": "stdout",
     "output_type": "stream",
     "text": [
      "0 ile 6 sayısı arasındaki çift sayıların toplamı 9\n",
      "0 ile 6 sayısı arasındaki tek sayıların toplamı 12\n"
     ]
    }
   ],
   "source": [
    "#Klavyeden girilen sayıya kadar olan sayılardan tek sayıların toplamını ve çift sayıların toplamını ayrı ayrı bulan kodu yazınız.\n",
    "\n",
    "num = int(input(\"Bir Sayı Girin: \"))\n",
    "total = 0\n",
    "total1 = 0\n",
    "\n",
    "for item in range(1,num + 1):\n",
    "  if item % 2 == 0:\n",
    "    total += item \n",
    "  else: \n",
    "    total1 += item \n",
    "\n",
    "print(f\"0 ile {num} sayısı arasındaki çift sayıların toplamı {total1}\")\n",
    "print(f\"0 ile {num} sayısı arasındaki tek sayıların toplamı {total}\")\n"
   ]
  },
  {
   "cell_type": "code",
   "execution_count": 26,
   "metadata": {},
   "outputs": [
    {
     "name": "stdout",
     "output_type": "stream",
     "text": [
      "8\n",
      "4\n",
      "6\n",
      "Girilen sayıların toplamı:  18\n",
      "Girilen sayıların adedi:  3\n",
      "Girilen sayıların ortalaması:  6.0\n"
     ]
    }
   ],
   "source": [
    "\"\"\"\n",
    "Kullanıcı 'q' harfine basmadığı sürece kullanıcıdan sürekli olarak tam sayı alınız. Aldığınız tam sayıların;\n",
    "\n",
    "Toplamını yazdırınız.\n",
    "En büyüğünü yazdırınız.\n",
    "En küçüğünü yazdırınız.\n",
    "Ortalamasını yazdırınız.\n",
    "\"\"\"\n",
    "\n",
    "userInput = input()\n",
    "toplam = 0\n",
    "inputcounter= 0\n",
    "smalnum = bignum= None\n",
    "\n",
    "while userInput != 'q':\n",
    "    number = int(userInput)\n",
    "    print(number)\n",
    "    inputcounter += 1\n",
    "    toplam += number\n",
    "  \n",
    "  if smalnum is None or number < smalnum:\n",
    "    smalnum = number\n",
    "\n",
    "  if smalnum is None or number > bignum:\n",
    "    bignum = number\n",
    "    \n",
    "    userInput = input()\n",
    "\n",
    "\n",
    "print(smalnum)\n",
    "print(\"Girilen sayıların toplamı: \", toplam)\n",
    "print(\"Girilen sayıların adedi: \", inputcounter)\n",
    "print(\"Girilen sayıların ortalaması: \", (toplam/(inputcounter if inputcounter > 0 else 1)))"
   ]
  },
  {
   "cell_type": "code",
   "execution_count": 29,
   "metadata": {},
   "outputs": [
    {
     "name": "stdout",
     "output_type": "stream",
     "text": [
      "5\n"
     ]
    }
   ],
   "source": [
    "#Verilen iki sayının EBOB'unu ve EKOK'unu hesaplayın.\n",
    "\n",
    "\n",
    "num1 = int(input(\"Birinci Sayıyı Girin: \"))\n",
    "num2 = int(input(\"İkinci Sayıyı Girin: \"))\n",
    "\n",
    "if num1>num2:\n",
    "  for bolen in range(1, num1+1, 1):\n",
    "    if num1%bolen == 0:\n",
    "        if num2 % bolen == 0:\n",
    "          ebob = bolen\n",
    "else:\n",
    "    for bolen in range(1, num2+1, 1):\n",
    "      if num2%bolen == 0:\n",
    "       if num1 % bolen == 0:\n",
    "          ebob = bolen\n",
    "\n",
    "print(ebob)\n"
   ]
  },
  {
   "cell_type": "code",
   "execution_count": 17,
   "metadata": {},
   "outputs": [
    {
     "name": "stdout",
     "output_type": "stream",
     "text": [
      "EBOB :  12\n"
     ]
    }
   ],
   "source": [
    "num1 = int(input(\"Birinci Sayıyı Girin: \"))\n",
    "num2 = int(input(\"İkinci Sayıyı Girin: \"))\n",
    "\n",
    "if num1>num2:\n",
    "   kucuksayi = num2\n",
    "else:\n",
    "   kucuksayi = num1\n",
    "   for bolen in range(1, kucuksayi+1):\n",
    "      if (num2%bolen == 0):\n",
    "         if (num1 % bolen == 0):\n",
    "          ebob = (bolen)\n",
    "\n",
    "print(\"EBOB : \" , ebob)"
   ]
  },
  {
   "cell_type": "code",
   "execution_count": 19,
   "metadata": {},
   "outputs": [
    {
     "name": "stdout",
     "output_type": "stream",
     "text": [
      "Ekok:  60\n"
     ]
    }
   ],
   "source": [
    "num1 = int(input(\"Birinci Sayıyı Girin: \"))\n",
    "num2 = int(input(\"İkinci Sayıyı Girin: \"))\n",
    "\n",
    "if  num1 > num2 :\n",
    "    kucuksayi = num2\n",
    "else:\n",
    "    kucuksayi = num1\n",
    "for bolen in range(1, kucuksayi+1):\n",
    "    if (num2%bolen == 0) and (num1 % bolen) == 0:\n",
    "        ekok = ((num1*num2)//bolen)\n",
    "         \n",
    "print(\"Ekok: \", ekok)"
   ]
  },
  {
   "cell_type": "code",
   "execution_count": 35,
   "metadata": {},
   "outputs": [
    {
     "name": "stdout",
     "output_type": "stream",
     "text": [
      "*\n",
      " **\n",
      "***\n",
      "   ****\n",
      "*****\n",
      "     ******\n",
      "*******\n",
      "       ********\n",
      "*********\n",
      "         **********\n"
     ]
    }
   ],
   "source": [
    "'''\n",
    "\n",
    "Aşağıdaki deseni oluşturunuz.\n",
    "\n",
    "*..................\n",
    ".**................\n",
    "***................\n",
    "...****............\n",
    "*****..............\n",
    ".....******........\n",
    "*******............\n",
    ".......********....\n",
    "*********..........\n",
    ".........**********\n",
    "\n",
    "'''\n",
    "satir_sayisi = int(input())\n",
    "for suanki_satir in range(1, 2*satir_sayisi + 1):\n",
    "    if suanki_satir%2== 0:\n",
    "       bosluk_sayisi = suanki_satir-1\n",
    "       yıldız_sayisi = suanki_satir\n",
    "       print(bosluk_sayisi*\" \" + suanki_satir* \"*\")\n",
    "    else:\n",
    "       bosluk_sayisi = suanki_satir+2\n",
    "       yıldız_sayisi = suanki_satir\n",
    "       print(suanki_satir*\"*\")"
   ]
  },
  {
   "cell_type": "code",
   "execution_count": 37,
   "metadata": {},
   "outputs": [
    {
     "name": "stdout",
     "output_type": "stream",
     "text": [
      "*\n",
      " **\n",
      "***\n",
      "   ****\n",
      "*****\n",
      "     ******\n",
      "*******\n",
      "       ********\n",
      "*********\n",
      "         **********\n"
     ]
    }
   ],
   "source": [
    "satir_sayisi = int(input())\n",
    "for suanki_satir in range(1, 2*satir_sayisi+1):\n",
    "    if suanki_satir%2== 0:\n",
    "       bosluk_sayisi = suanki_satir-1\n",
    "       yıldız_sayisi = suanki_satir\n",
    "       print(bosluk_sayisi*\" \" + suanki_satir* \"*\")\n",
    "    else:\n",
    "       yıldız_sayisi = suanki_satir\n",
    "       print(suanki_satir*\"*\")"
   ]
  }
 ],
 "metadata": {
  "kernelspec": {
   "display_name": "Python 3.10.5 32-bit",
   "language": "python",
   "name": "python3"
  },
  "language_info": {
   "codemirror_mode": {
    "name": "ipython",
    "version": 3
   },
   "file_extension": ".py",
   "mimetype": "text/x-python",
   "name": "python",
   "nbconvert_exporter": "python",
   "pygments_lexer": "ipython3",
   "version": "3.10.5"
  },
  "orig_nbformat": 4,
  "vscode": {
   "interpreter": {
    "hash": "3a76228ad2be0688f8ad5f22cd5a5c34eb0a8c6f0341e9e6e30d2b6319109a87"
   }
  }
 },
 "nbformat": 4,
 "nbformat_minor": 2
}
